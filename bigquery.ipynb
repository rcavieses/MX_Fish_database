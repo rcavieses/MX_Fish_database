{
 "cells": [
  {
   "cell_type": "code",
   "execution_count": 5,
   "metadata": {},
   "outputs": [],
   "source": [
    "import pandas as pd\n",
    "import sqlite3\n",
    "import os\n",
    "\n",
    "def process_arribo_file(filepath, encoding='ISO-8859-1'):\n",
    "    \"\"\"Procesa archivos de avisos de arribo eliminando metadatos y ajustando encabezados.\"\"\"\n",
    "    data = pd.read_csv(filepath, skiprows=2, low_memory=False, encoding=encoding)\n",
    "    data.columns = data.columns.str.strip().str.replace(' ', '_').str.replace(r'[^\\w\\s]', '_')\n",
    "    return data\n",
    "\n",
    "def process_vms_file(filepath, encoding='ISO-8859-1'):\n",
    "    \"\"\"Procesa archivos VMS ajustando las columnas.\"\"\"\n",
    "    data = pd.read_csv(filepath, encoding=encoding)\n",
    "    data.columns = data.columns.str.strip().str.replace(' ', '_').str.replace(r'[^\\w\\s]', '_')\n",
    "    return data\n",
    "\n",
    "def create_table_from_df(db_conn, df, table_name):\n",
    "    \"\"\"Crea una tabla en la base de datos basada en el DataFrame dado.\"\"\"\n",
    "    cursor = db_conn.cursor()\n",
    "    cols = \", \".join([f\"{col} TEXT\" if df[col].dtype == object else f\"{col} REAL\" for col in df.columns])\n",
    "    cursor.execute(f\"DROP TABLE IF EXISTS {table_name};\")\n",
    "    cursor.execute(f\"CREATE TABLE {table_name} ({cols});\")\n",
    "    db_conn.commit()\n",
    "\n",
    "def load_data_to_db(db_conn, data_dir, file_type, encoding='ISO-8859-1'):\n",
    "    \"\"\"Carga y procesa datos desde el directorio especificado a la base de datos.\"\"\"\n",
    "    files = [os.path.join(data_dir, f) for f in os.listdir(data_dir) if f.endswith('.csv')]\n",
    "    first = True\n",
    "    for filepath in files:\n",
    "        if 'arribo' in file_type:\n",
    "            data = process_arribo_file(filepath, encoding)\n",
    "        else:\n",
    "            data = process_vms_file(filepath, encoding)\n",
    "        if first:\n",
    "            create_table_from_df(db_conn, data, file_type)\n",
    "            first = False\n",
    "        data.to_sql(file_type, db_conn, if_exists='append', index=False)\n",
    "\n",
    "def query_by_date(db_conn, table_name, start_date, end_date):\n",
    "    \"\"\"Realiza una consulta SQL para filtrar los datos por un rango de fechas específico.\"\"\"\n",
    "    query = f\"SELECT * FROM {table_name} WHERE Fecha >= ? AND Fecha <= ?\"\n",
    "    result = pd.read_sql_query(query, db_conn, params=(start_date, end_date))\n",
    "    return result\n",
    "\n",
    "# Configuración de la conexión a la base de datos SQLite\n",
    "db_conn = sqlite3.connect('fish_database.db')"
   ]
  },
  {
   "cell_type": "code",
   "execution_count": 6,
   "metadata": {},
   "outputs": [
    {
     "name": "stderr",
     "output_type": "stream",
     "text": [
      "C:\\Users\\ricar\\AppData\\Local\\Temp\\ipykernel_29620\\3214814772.py:15: DtypeWarning: Columns (0,1,2,3,4,7,13,14,15,17,20,21,22,23,30,31,32,33) have mixed types. Specify dtype option on import or set low_memory=False.\n",
      "  data = pd.read_csv(filepath, encoding=encoding)\n"
     ]
    },
    {
     "ename": "OperationalError",
     "evalue": "near \":_1\": syntax error",
     "output_type": "error",
     "traceback": [
      "\u001b[1;31m---------------------------------------------------------------------------\u001b[0m",
      "\u001b[1;31mOperationalError\u001b[0m                          Traceback (most recent call last)",
      "Cell \u001b[1;32mIn[6], line 6\u001b[0m\n\u001b[0;32m      3\u001b[0m vms_directory \u001b[38;5;241m=\u001b[39m \u001b[38;5;124m'\u001b[39m\u001b[38;5;124mvms_homologados\u001b[39m\u001b[38;5;124m'\u001b[39m\n\u001b[0;32m      5\u001b[0m \u001b[38;5;66;03m# Cargar todos los datos en la base de datos\u001b[39;00m\n\u001b[1;32m----> 6\u001b[0m \u001b[43mload_data_to_db\u001b[49m\u001b[43m(\u001b[49m\u001b[43mdb_conn\u001b[49m\u001b[43m,\u001b[49m\u001b[43m \u001b[49m\u001b[43marribo_directory\u001b[49m\u001b[43m,\u001b[49m\u001b[43m \u001b[49m\u001b[38;5;124;43m'\u001b[39;49m\u001b[38;5;124;43mArribo\u001b[39;49m\u001b[38;5;124;43m'\u001b[39;49m\u001b[43m)\u001b[49m\n\u001b[0;32m      7\u001b[0m load_data_to_db(db_conn, vms_directory, \u001b[38;5;124m'\u001b[39m\u001b[38;5;124mVMS\u001b[39m\u001b[38;5;124m'\u001b[39m)\n\u001b[0;32m      9\u001b[0m \u001b[38;5;66;03m# Ejemplo de uso de la función para filtrar por fecha\u001b[39;00m\n",
      "Cell \u001b[1;32mIn[5], line 38\u001b[0m, in \u001b[0;36mload_data_to_db\u001b[1;34m(db_conn, data_dir, file_type, encoding)\u001b[0m\n\u001b[0;32m     36\u001b[0m     data \u001b[38;5;241m=\u001b[39m process_vms_file(filepath, encoding)\n\u001b[0;32m     37\u001b[0m \u001b[38;5;28;01mif\u001b[39;00m first:\n\u001b[1;32m---> 38\u001b[0m     \u001b[43mcreate_table_from_df\u001b[49m\u001b[43m(\u001b[49m\u001b[43mdb_conn\u001b[49m\u001b[43m,\u001b[49m\u001b[43m \u001b[49m\u001b[43mdata\u001b[49m\u001b[43m,\u001b[49m\u001b[43m \u001b[49m\u001b[43mfile_type\u001b[49m\u001b[43m)\u001b[49m\n\u001b[0;32m     39\u001b[0m     first \u001b[38;5;241m=\u001b[39m \u001b[38;5;28;01mFalse\u001b[39;00m\n\u001b[0;32m     40\u001b[0m data\u001b[38;5;241m.\u001b[39mto_sql(file_type, db_conn, if_exists\u001b[38;5;241m=\u001b[39m\u001b[38;5;124m'\u001b[39m\u001b[38;5;124mappend\u001b[39m\u001b[38;5;124m'\u001b[39m, index\u001b[38;5;241m=\u001b[39m\u001b[38;5;28;01mFalse\u001b[39;00m)\n",
      "Cell \u001b[1;32mIn[5], line 25\u001b[0m, in \u001b[0;36mcreate_table_from_df\u001b[1;34m(db_conn, df, table_name)\u001b[0m\n\u001b[0;32m     23\u001b[0m cols \u001b[38;5;241m=\u001b[39m \u001b[38;5;124m\"\u001b[39m\u001b[38;5;124m, \u001b[39m\u001b[38;5;124m\"\u001b[39m\u001b[38;5;241m.\u001b[39mjoin([\u001b[38;5;124mf\u001b[39m\u001b[38;5;124m\"\u001b[39m\u001b[38;5;132;01m{\u001b[39;00mcol\u001b[38;5;132;01m}\u001b[39;00m\u001b[38;5;124m TEXT\u001b[39m\u001b[38;5;124m\"\u001b[39m \u001b[38;5;28;01mif\u001b[39;00m df[col]\u001b[38;5;241m.\u001b[39mdtype \u001b[38;5;241m==\u001b[39m \u001b[38;5;28mobject\u001b[39m \u001b[38;5;28;01melse\u001b[39;00m \u001b[38;5;124mf\u001b[39m\u001b[38;5;124m\"\u001b[39m\u001b[38;5;132;01m{\u001b[39;00mcol\u001b[38;5;132;01m}\u001b[39;00m\u001b[38;5;124m REAL\u001b[39m\u001b[38;5;124m\"\u001b[39m \u001b[38;5;28;01mfor\u001b[39;00m col \u001b[38;5;129;01min\u001b[39;00m df\u001b[38;5;241m.\u001b[39mcolumns])\n\u001b[0;32m     24\u001b[0m cursor\u001b[38;5;241m.\u001b[39mexecute(\u001b[38;5;124mf\u001b[39m\u001b[38;5;124m\"\u001b[39m\u001b[38;5;124mDROP TABLE IF EXISTS \u001b[39m\u001b[38;5;132;01m{\u001b[39;00mtable_name\u001b[38;5;132;01m}\u001b[39;00m\u001b[38;5;124m;\u001b[39m\u001b[38;5;124m\"\u001b[39m)\n\u001b[1;32m---> 25\u001b[0m \u001b[43mcursor\u001b[49m\u001b[38;5;241;43m.\u001b[39;49m\u001b[43mexecute\u001b[49m\u001b[43m(\u001b[49m\u001b[38;5;124;43mf\u001b[39;49m\u001b[38;5;124;43m\"\u001b[39;49m\u001b[38;5;124;43mCREATE TABLE \u001b[39;49m\u001b[38;5;132;43;01m{\u001b[39;49;00m\u001b[43mtable_name\u001b[49m\u001b[38;5;132;43;01m}\u001b[39;49;00m\u001b[38;5;124;43m (\u001b[39;49m\u001b[38;5;132;43;01m{\u001b[39;49;00m\u001b[43mcols\u001b[49m\u001b[38;5;132;43;01m}\u001b[39;49;00m\u001b[38;5;124;43m);\u001b[39;49m\u001b[38;5;124;43m\"\u001b[39;49m\u001b[43m)\u001b[49m\n\u001b[0;32m     26\u001b[0m db_conn\u001b[38;5;241m.\u001b[39mcommit()\n",
      "\u001b[1;31mOperationalError\u001b[0m: near \":_1\": syntax error"
     ]
    }
   ],
   "source": [
    "\n",
    "# Rutas de los directorios\n",
    "arribo_directory = 'avisos_de_arribo'\n",
    "vms_directory = 'vms_homologados'\n",
    "\n",
    "# Cargar todos los datos en la base de datos\n",
    "load_data_to_db(db_conn, arribo_directory, 'Arribo')\n",
    "load_data_to_db(db_conn, vms_directory, 'VMS')\n",
    "\n",
    "# Ejemplo de uso de la función para filtrar por fecha\n",
    "filtered_data = query_by_date(db_conn, 'VMS', '2020-01-01', '2020-12-31')\n",
    "print(filtered_data.head())\n",
    "\n",
    "# Cerrar la conexión a la base de datos\n",
    "db_conn.close()"
   ]
  }
 ],
 "metadata": {
  "kernelspec": {
   "display_name": "pro24",
   "language": "python",
   "name": "python3"
  },
  "language_info": {
   "codemirror_mode": {
    "name": "ipython",
    "version": 3
   },
   "file_extension": ".py",
   "mimetype": "text/x-python",
   "name": "python",
   "nbconvert_exporter": "python",
   "pygments_lexer": "ipython3",
   "version": "3.11.7"
  }
 },
 "nbformat": 4,
 "nbformat_minor": 2
}
